{
 "cells": [
  {
   "cell_type": "code",
   "execution_count": 48,
   "metadata": {},
   "outputs": [],
   "source": [
    "from PIL import Image\n",
    "import numpy as np\n",
    "from mylibdir.class_ica import ICA\n",
    "\n",
    "#画像の読み込み\n",
    "im1=np.array(Image.open('report_kadai3_data1/image1.png'))\n",
    "h1,w1=im1.shape\n",
    "data1=np.empty(h1*w1)\n",
    "\n",
    "im2=np.array(Image.open('report_kadai3_data1/image2.png'))\n",
    "h2,w2=im2.shape\n",
    "data2=np.empty(h2*w2)\n",
    "\n",
    "if h1!=h2 or w1!=w2:\n",
    "    raise ValueError('Format_Error')\n",
    "else:\n",
    "    h=h1\n",
    "    w=w1\n",
    "    \n",
    "n=0\n",
    "for i in range(h):#ICA用に一次元配列に変換\n",
    "    for j in range(w):\n",
    "        data1[n]=im1[i,j]\n",
    "        data2[n]=im2[i,j]\n",
    "        n+=1"
   ]
  },
  {
   "cell_type": "code",
   "execution_count": 49,
   "metadata": {},
   "outputs": [],
   "source": [
    "data=[data1,data2]\n",
    "y=ICA(data).run() # ICAの実行\n",
    "y2=[((y_i-min(y_i))/(max(y_i)-min(y_i))*256).astype(np.uint8) for y_i in np.asarray(y)]#符号なし8ビット整数型に変換"
   ]
  },
  {
   "cell_type": "code",
   "execution_count": 50,
   "metadata": {},
   "outputs": [],
   "source": [
    "result1=np.empty((h,w))\n",
    "result2=np.empty((h,w))\n",
    "n=0\n",
    "for i in range(h):#二次元配列にもどす\n",
    "    for j in range(w):\n",
    "        result1[i,j]=y2[0][n]\n",
    "        result2[i,j]=y2[1][n]\n",
    "        n+=1\n",
    "    \n",
    "result_im1=Image.fromarray(result1).convert('L')\n",
    "result_im1.save('report_kadai3_data1/result1.png')\n",
    "\n",
    "result_im2=Image.fromarray(result2).convert('L')\n",
    "result_im2.save('report_kadai3_data1/result2.png')"
   ]
  },
  {
   "cell_type": "code",
   "execution_count": null,
   "metadata": {},
   "outputs": [],
   "source": []
  }
 ],
 "metadata": {
  "kernelspec": {
   "display_name": "Python 3",
   "language": "python",
   "name": "python3"
  },
  "language_info": {
   "codemirror_mode": {
    "name": "ipython",
    "version": 3
   },
   "file_extension": ".py",
   "mimetype": "text/x-python",
   "name": "python",
   "nbconvert_exporter": "python",
   "pygments_lexer": "ipython3",
   "version": "3.6.5"
  }
 },
 "nbformat": 4,
 "nbformat_minor": 2
}
