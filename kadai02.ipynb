{
 "cells": [
  {
   "cell_type": "code",
   "execution_count": 33,
   "metadata": {},
   "outputs": [],
   "source": [
    "#data1\n",
    "\n",
    "from mylibdir.class_ica import ICA\n",
    "import numpy as np\n",
    "import scipy.io.wavfile as wav\n",
    "\n",
    "#音声データの読み込み\n",
    "rate,data1=wav.read('report_kadai2_data1/speechA1.wav')\n",
    "rate,data2=wav.read('report_kadai2_data1/speechA2.wav')\n",
    "    \n",
    "data=[data1.astype(float),data2.astype(float)]\n",
    "\n",
    "y=ICA(data).run() # ICAの実行\n",
    "y2=[(y_i/max(np.absolute(y_i))*32767).astype(np.int16) for y_i in np.asarray(y)]#16ビットに変換\n",
    "\n",
    "wav.write('report_kadai2_data1/person1.wav', rate, y2[0])\n",
    "wav.write('report_kadai2_data1/person2.wav', rate, y2[1])"
   ]
  },
  {
   "cell_type": "code",
   "execution_count": 34,
   "metadata": {},
   "outputs": [],
   "source": [
    "#data2\n",
    "\n",
    "#音声データの読み込み\n",
    "rate,data1=wav.read('report_kadai2_data2/speechB1.wav')\n",
    "rate,data2=wav.read('report_kadai2_data2/speechB2.wav')\n",
    "rate,data3=wav.read('report_kadai2_data2/speechB3.wav')\n",
    "\n",
    "data=[data1.astype(float),data2.astype(float),data3.astype(float)]\n",
    "\n",
    "y=ICA(data).run() # ICAの実行\n",
    "y2=[(y_i/max(np.absolute(y_i))*32767).astype(np.int16) for y_i in np.asarray(y)]#16ビットに変換\n",
    "\n",
    "wav.write('report_kadai2_data2/person1.wav', rate, y2[0])\n",
    "wav.write('report_kadai2_data2/person2.wav', rate, y2[1])\n",
    "wav.write('report_kadai2_data2/person3.wav', rate, y2[1])"
   ]
  },
  {
   "cell_type": "code",
   "execution_count": 35,
   "metadata": {},
   "outputs": [],
   "source": [
    "#data3\n",
    "\n",
    "#音声データの読み込み\n",
    "rate,data1=wav.read('report_kadai2_data3/music1.wav')\n",
    "rate,data2=wav.read('report_kadai2_data3/music2.wav')\n",
    "    \n",
    "data=[data1.astype(float),data2.astype(float)]\n",
    "\n",
    "y=ICA(data).run() # ICAの実行\n",
    "y2=[(y_i/max(np.absolute(y_i))*32767).astype(np.int16) for y_i in np.asarray(y)]#16ビットに変換\n",
    "\n",
    "wav.write('report_kadai2_data3/source1.wav', rate, y2[0])\n",
    "wav.write('report_kadai2_data3/source2.wav', rate, y2[1])"
   ]
  },
  {
   "cell_type": "code",
   "execution_count": null,
   "metadata": {},
   "outputs": [],
   "source": []
  }
 ],
 "metadata": {
  "kernelspec": {
   "display_name": "Python 3",
   "language": "python",
   "name": "python3"
  },
  "language_info": {
   "codemirror_mode": {
    "name": "ipython",
    "version": 3
   },
   "file_extension": ".py",
   "mimetype": "text/x-python",
   "name": "python",
   "nbconvert_exporter": "python",
   "pygments_lexer": "ipython3",
   "version": "3.6.5"
  }
 },
 "nbformat": 4,
 "nbformat_minor": 2
}
