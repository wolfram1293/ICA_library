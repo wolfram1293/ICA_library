{
 "cells": [
  {
   "cell_type": "code",
   "execution_count": 57,
   "metadata": {},
   "outputs": [],
   "source": [
    "from PIL import Image\n",
    "import numpy as np\n",
    "from mylibdir.class_ica import ICA\n",
    "\n",
    "#合成画像を作成\n",
    "im1=np.array(Image.open('report_kadai4_data1/original1.png'))\n",
    "im2=np.array(Image.open('report_kadai4_data1/original2.png'))\n",
    "mix1=im1*0.4+im2*0.6\n",
    "mix2=im1*0.6+im2*0.4\n",
    "mix1=mix1.astype(np.uint8)\n",
    "mix2=mix2.astype(np.uint8)\n",
    "\n",
    "result_mix1=Image.fromarray(mix1)\n",
    "result_mix1.save('report_kadai4_data1/image1.png')\n",
    "\n",
    "result_mix2=Image.fromarray(mix2)\n",
    "result_mix2.save('report_kadai4_data1/image2.png')"
   ]
  },
  {
   "cell_type": "code",
   "execution_count": 87,
   "metadata": {},
   "outputs": [],
   "source": [
    "#画像の読み込み\n",
    "im1=np.array(Image.open('report_kadai4_data1/image1.png'))\n",
    "h1,w1,c1=im1.shape\n",
    "data1_R=np.empty(h1*w1)\n",
    "data1_G=np.empty(h1*w1)\n",
    "data1_B=np.empty(h1*w1)\n",
    "\n",
    "im2=np.array(Image.open('report_kadai4_data1/image2.png'))\n",
    "h2,w2,c2=im2.shape\n",
    "data2_R=np.empty(h2*w2)\n",
    "data2_G=np.empty(h2*w2)\n",
    "data2_B=np.empty(h2*w2)\n",
    "\n",
    "if h1!=h2 or w1!=w2 or c1!=c2:\n",
    "    raise ValueError('Format_Error')\n",
    "else:\n",
    "    h=h1\n",
    "    w=w1\n",
    "    nc=c1\n",
    "    \n",
    "n=0\n",
    "for i in range(h):#ICA用に一次元配列に変換\n",
    "    for j in range(w):\n",
    "        data1_R[n]=im1[i,j,0]\n",
    "        data1_G[n]=im1[i,j,1]\n",
    "        data1_B[n]=im1[i,j,2]\n",
    "        \n",
    "        data2_R[n]=im2[i,j,0]\n",
    "        data2_G[n]=im2[i,j,1]\n",
    "        data2_B[n]=im2[i,j,2]\n",
    "        n+=1"
   ]
  },
  {
   "cell_type": "code",
   "execution_count": 88,
   "metadata": {},
   "outputs": [],
   "source": [
    "#各色についてICAを実行\n",
    "data_R=[data1_R,data2_R]\n",
    "data_G=[data1_G,data2_G]\n",
    "data_B=[data1_B,data2_B]\n",
    "\n",
    "y_R=ICA(data_R).run() # ICAの実行\n",
    "y_R=[((y_R_i-min(y_R_i))/(max(y_R_i)-min(y_R_i))*256).astype(np.uint8) for y_R_i in np.asarray(y_R)]#符号なし8ビット整数型に変換\n",
    "\n",
    "y_G=ICA(data_G).run() # ICAの実行\n",
    "y_G=[((y_G_i-min(y_G_i))/(max(y_G_i)-min(y_G_i))*256).astype(np.uint8) for y_G_i in np.asarray(y_G)]#符号なし8ビット整数型に変換\n",
    "\n",
    "y_B=ICA(data_B).run() # ICAの実行\n",
    "y_B=[((y_B_i-min(y_B_i))/(max(y_B_i)-min(y_B_i))*256).astype(np.uint8) for y_B_i in np.asarray(y_B)]#符号なし8ビット整数型に変換"
   ]
  },
  {
   "cell_type": "code",
   "execution_count": 89,
   "metadata": {},
   "outputs": [],
   "source": [
    "if np.absolute(y_R[0]-y_G[0]).mean()<np.absolute(y_R[0]-y_G[1]).mean():#各ピクセルのRGB値の差の平均値を比較し、同一画像の単色成分を判定\n",
    "    a=0\n",
    "    b=1\n",
    "else:\n",
    "    a=1\n",
    "    b=0\n",
    "    \n",
    "if np.absolute(y_R[0]-y_B[0]).mean()<np.absolute(y_R[0]-y_B[1]).mean():\n",
    "    c=0\n",
    "    d=1\n",
    "else:\n",
    "    c=1\n",
    "    d=0\n",
    "\n",
    "result1=np.empty((h,w,nc)).astype(np.uint8)\n",
    "result2=np.empty((h,w,nc)).astype(np.uint8)\n",
    "n=0\n",
    "for i in range(h):#三次元配列にもどす\n",
    "    for j in range(w):\n",
    "        result1[i,j,0]=y_R[0][n]\n",
    "        result1[i,j,1]=y_G[a][n]\n",
    "        result1[i,j,2]=y_B[c][n]\n",
    "        \n",
    "        result2[i,j,0]=y_R[1][n]\n",
    "        result2[i,j,1]=y_G[b][n]\n",
    "        result2[i,j,2]=y_B[d][n]\n",
    "        n+=1\n",
    "        \n",
    "result_im1=Image.fromarray(result1)\n",
    "result_im1.save('report_kadai4_data1/result1.png')\n",
    "\n",
    "result_im2=Image.fromarray(result2)\n",
    "result_im2.save('report_kadai4_data1/result2.png')"
   ]
  },
  {
   "cell_type": "code",
   "execution_count": null,
   "metadata": {},
   "outputs": [],
   "source": []
  }
 ],
 "metadata": {
  "kernelspec": {
   "display_name": "Python 3",
   "language": "python",
   "name": "python3"
  },
  "language_info": {
   "codemirror_mode": {
    "name": "ipython",
    "version": 3
   },
   "file_extension": ".py",
   "mimetype": "text/x-python",
   "name": "python",
   "nbconvert_exporter": "python",
   "pygments_lexer": "ipython3",
   "version": "3.6.5"
  }
 },
 "nbformat": 4,
 "nbformat_minor": 2
}
